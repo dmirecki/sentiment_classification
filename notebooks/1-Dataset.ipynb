{
 "cells": [
  {
   "cell_type": "markdown",
   "source": [
    "# Dataset preparing\n",
    "\n",
    "The notebook prepares data and split them into train/valid/test datasets.\n",
    "\n",
    "Download and unpack dataset from https://ai.stanford.edu/~amaas/data/sentiment/ to `../data` directory."
   ],
   "metadata": {
    "collapsed": false,
    "pycharm": {
     "name": "#%% md\n"
    }
   }
  },
  {
   "cell_type": "code",
   "execution_count": 1,
   "metadata": {
    "collapsed": true
   },
   "outputs": [],
   "source": [
    "from pathlib import Path\n",
    "\n",
    "import pandas as pd\n",
    "from tqdm.auto import tqdm\n",
    "\n",
    "def read_dir(path: Path) -> pd.DataFrame:\n",
    "    reviews = []\n",
    "    for review_path in tqdm(path.glob('*.txt')):\n",
    "        ix, rate = review_path.stem.split('_')\n",
    "\n",
    "        with review_path.open('r') as f:\n",
    "            reviews.append({\n",
    "                'review': f.read(),\n",
    "                'score': int(rate)\n",
    "            })\n",
    "\n",
    "    return pd.DataFrame(reviews)"
   ]
  },
  {
   "cell_type": "code",
   "execution_count": 2,
   "outputs": [
    {
     "data": {
      "text/plain": "|          | 0/? [00:00<?, ?it/s]",
      "application/vnd.jupyter.widget-view+json": {
       "version_major": 2,
       "version_minor": 0,
       "model_id": "01aead29e0cb4f5080c6d64034b778ea"
      }
     },
     "metadata": {},
     "output_type": "display_data"
    },
    {
     "data": {
      "text/plain": "|          | 0/? [00:00<?, ?it/s]",
      "application/vnd.jupyter.widget-view+json": {
       "version_major": 2,
       "version_minor": 0,
       "model_id": "7a1f10397d66456294bbd7440633ebdb"
      }
     },
     "metadata": {},
     "output_type": "display_data"
    },
    {
     "data": {
      "text/plain": "|          | 0/? [00:00<?, ?it/s]",
      "application/vnd.jupyter.widget-view+json": {
       "version_major": 2,
       "version_minor": 0,
       "model_id": "29af3559008049409976472243828364"
      }
     },
     "metadata": {},
     "output_type": "display_data"
    },
    {
     "data": {
      "text/plain": "|          | 0/? [00:00<?, ?it/s]",
      "application/vnd.jupyter.widget-view+json": {
       "version_major": 2,
       "version_minor": 0,
       "model_id": "27a7580b017548889d47f8d45df939a5"
      }
     },
     "metadata": {},
     "output_type": "display_data"
    }
   ],
   "source": [
    "path = Path('../data/aclImdb')\n",
    "\n",
    "train_pos = read_dir(path / 'train' / 'pos')\n",
    "train_neg = read_dir(path / 'train' / 'neg')\n",
    "test_pos = read_dir(path / 'test' / 'pos')\n",
    "test_neg = read_dir(path / 'test' / 'neg')\n",
    "\n",
    "train_pos['sentiment'] = 'positive'\n",
    "train_neg['sentiment'] = 'negative'\n",
    "test_pos['sentiment'] = 'positive'\n",
    "test_neg['sentiment'] = 'negative'\n",
    "\n",
    "train = pd.concat([train_pos, train_neg])\n",
    "train['sentiment'] = train['sentiment'].astype('category')\n",
    "\n",
    "test = pd.concat([test_pos, test_neg])\n",
    "test['sentiment'] = test['sentiment'].astype('category')"
   ],
   "metadata": {
    "collapsed": false,
    "pycharm": {
     "name": "#%%\n"
    }
   }
  },
  {
   "cell_type": "markdown",
   "source": [
    "Define train/valid split"
   ],
   "metadata": {
    "collapsed": false,
    "pycharm": {
     "name": "#%% md\n"
    }
   }
  },
  {
   "cell_type": "code",
   "execution_count": 3,
   "outputs": [],
   "source": [
    "from sklearn.model_selection import train_test_split\n",
    "\n",
    "train, valid = train_test_split(train, train_size=0.8, random_state=88)"
   ],
   "metadata": {
    "collapsed": false,
    "pycharm": {
     "name": "#%%\n"
    }
   }
  },
  {
   "cell_type": "markdown",
   "source": [
    "Serialize datasets to pickle"
   ],
   "metadata": {
    "collapsed": false,
    "pycharm": {
     "name": "#%% md\n"
    }
   }
  },
  {
   "cell_type": "code",
   "execution_count": 6,
   "outputs": [],
   "source": [
    "train.to_pickle(Path('../data/interim/train.pkl'))\n",
    "valid.to_pickle(Path('../data/interim/valid.pkl'))\n",
    "test.to_pickle(Path('../data/interim/test.pkl'))"
   ],
   "metadata": {
    "collapsed": false,
    "pycharm": {
     "name": "#%%\n"
    }
   }
  }
 ],
 "metadata": {
  "kernelspec": {
   "display_name": "Python 3",
   "language": "python",
   "name": "python3"
  },
  "language_info": {
   "codemirror_mode": {
    "name": "ipython",
    "version": 2
   },
   "file_extension": ".py",
   "mimetype": "text/x-python",
   "name": "python",
   "nbconvert_exporter": "python",
   "pygments_lexer": "ipython2",
   "version": "2.7.6"
  }
 },
 "nbformat": 4,
 "nbformat_minor": 0
}